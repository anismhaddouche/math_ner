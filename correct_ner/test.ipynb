{
 "cells": [
  {
   "cell_type": "code",
   "execution_count": 1,
   "metadata": {},
   "outputs": [],
   "source": [
    "import numpy as np \n",
    "import re \n",
    "from bs4 import BeautifulSoup\n",
    "import spacy \n",
    "import sys\n",
    "sys.path.append('scripts')\n",
    "import pysbd\n",
    "import json \n",
    "import re \n",
    "import random \n",
    "from spacy.tokens import DocBin\n",
    "import jsonlines\n",
    "from spacy.tokens import Span\n",
    "from prodigy.components.db import connect\n",
    "from prettytable import PrettyTable\n",
    "import srsly\n",
    "from prodigy.components.db import connect\n",
    "from pathlib import Path \n",
    "from spacy import displacy\n",
    "from pysbd.utils import PySBDFactory\n",
    "from components import *\n",
    "from string import punctuation\n",
    "from spacy.tokens import Doc\n",
    "from collections import Counter\n",
    "\n",
    "from configparser import ConfigParser, ExtendedInterpolation\n",
    "from collections import defaultdict\n",
    "from itertools import combinations, product\n",
    "import warnings\n",
    "warnings.filterwarnings('ignore')\n",
    "\n",
    "import gensim\n",
    "from gensim import corpora, models, similarities\n",
    "from gensim.corpora import Dictionary\n",
    "from gensim.matutils import kullback_leibler, hellinger\n",
    "from gensim.models import ldamodel\n",
    "from gensim.similarities import MatrixSimilarity, SparseMatrixSimilarity, Similarity\n",
    "from gensim.utils import simple_preprocess\n",
    "from IPython.core.display import display, HTML\n",
    "from IPython.display import Image\n",
    "from IPython.lib.display import YouTubeVideo\n",
    "import numpy as np\n",
    "import pandas as pd\n",
    "import seaborn as sns\n",
    "from sklearn.cluster import KMeans\n",
    "from sklearn.decomposition import TruncatedSVD\n",
    "from sklearn.feature_extraction.text import CountVectorizer, TfidfVectorizer\n",
    "from spacy.matcher import Matcher\n",
    "from sklearn.metrics.pairwise import pairwise_distances\n",
    "from sklearn.neighbors import NearestNeighbors\n",
    "import spacy\n",
    "\n",
    "# increase display of columns in pandas\n",
    "pd.set_option('display.max_colwidth', 200)\n",
    "#Visualization des phrases et des ents \n",
    "\n",
    "# sentence_spans = list(doc.sents)\n",
    "# displacy.render(sentence_spans, style=\"ent\")"
   ]
  },
  {
   "cell_type": "code",
   "execution_count": 2,
   "metadata": {},
   "outputs": [
    {
     "data": {
      "text/html": [
       "<span class=\"tex2jax_ignore\"><div class=\"entities\" style=\"line-height: 2.5; direction: ltr\">Expliqudfdfez comment vous déterminez les concentrations des solutions de la gamme étalon. </div>\n",
       "\n",
       "<div class=\"entities\" style=\"line-height: 2.5; direction: ltr\">Tout d'abord, on va déterminer les concentrations maximale et minimale de notre gamme étalon. </div>\n",
       "\n",
       "<div class=\"entities\" style=\"line-height: 2.5; direction: ltr\">Pour cela, on sait que notre spectrophotomètre est linéaire pour des absorbances se trouvant en 0.05 et 2. </div>\n",
       "\n",
       "<div class=\"entities\" style=\"line-height: 2.5; direction: ltr\">Donc grace à la formule A=C*E*l on peut déterminer les concentrations des extrêmes : § </div>\n",
       "\n",
       "<div class=\"entities\" style=\"line-height: 2.5; direction: ltr\">C min=A E×l=0.05104×1=5×10-6mol/L § </div>\n",
       "\n",
       "<div class=\"entities\" style=\"line-height: 2.5; direction: ltr\">C \n",
       "<mark class=\"entity\" style=\"background: #ddd; padding: 0.45em 0.6em; margin: 0 0.25em; line-height: 1; border-radius: 0.35em;\">\n",
       "    max=2104×1=2×10-4mol/L\n",
       "    <span style=\"font-size: 0.8em; font-weight: bold; line-height: 1; border-radius: 0.35em; vertical-align: middle; margin-left: 0.5rem\">TEXT_MATH</span>\n",
       "</mark>\n",
       " § </div>\n",
       "\n",
       "<div class=\"entities\" style=\"line-height: 2.5; direction: ltr\">Donc notre gamme étalon doit être entre 5*10-6 et 2*10-4mol/L. Ensuite, on peut maintenant déterminer les volumes maximum et minimum à prélever de solution de sel de Mohr grâce à la formule \n",
       "<mark class=\"entity\" style=\"background: #ddd; padding: 0.45em 0.6em; margin: 0 0.25em; line-height: 1; border-radius: 0.35em;\">\n",
       "    Cm*Vm=Cf*Vf\n",
       "    <span style=\"font-size: 0.8em; font-weight: bold; line-height: 1; border-radius: 0.35em; vertical-align: middle; margin-left: 0.5rem\">VALUE</span>\n",
       "</mark>\n",
       " § </div>\n",
       "\n",
       "<div class=\"entities\" style=\"line-height: 2.5; direction: ltr\">V min=Cf×Vf \n",
       "<mark class=\"entity\" style=\"background: #ddd; padding: 0.45em 0.6em; margin: 0 0.25em; line-height: 1; border-radius: 0.35em;\">\n",
       "    Cm=5×10-6×0.01 2×10-3=2.5×10-5\n",
       "    <span style=\"font-size: 0.8em; font-weight: bold; line-height: 1; border-radius: 0.35em; vertical-align: middle; margin-left: 0.5rem\">TEXT_MATH</span>\n",
       "</mark>\n",
       " \n",
       "<mark class=\"entity\" style=\"background: #ddd; padding: 0.45em 0.6em; margin: 0 0.25em; line-height: 1; border-radius: 0.35em;\">\n",
       "    L=25µL\n",
       "    <span style=\"font-size: 0.8em; font-weight: bold; line-height: 1; border-radius: 0.35em; vertical-align: middle; margin-left: 0.5rem\">VALUE</span>\n",
       "</mark>\n",
       " § </div>\n",
       "\n",
       "<div class=\"entities\" style=\"line-height: 2.5; direction: ltr\">V max=2×10-4×0.01 2×10-3=1×10-3 L=1mL=1000µL § </div>\n",
       "\n",
       "<div class=\"entities\" style=\"line-height: 2.5; direction: ltr\">Donc on va devoir prélever des volumes de sel de Mohr entre 25 et 1000µL.Enfin, nous avons 8 tubes plastiques de 10mL donc on va faire 8solutions pour notre gamme étalon et nous voulons des valeurs à peu près espacées de la même valeurs pour avoir une courbe facile a determiner. </div>\n",
       "\n",
       "<div class=\"entities\" style=\"line-height: 2.5; direction: ltr\">On va donc prendre les valeurs de volumes de solution de Mohr suivantes (en µL): 25, 100, 250, 400, 550, 700, 850, 1000. </div>\n",
       "\n",
       "<div class=\"entities\" style=\"line-height: 2.5; direction: ltr\">Ce qui nous donne des concentrations qui leur correspondent que l'on obtient grâce a la formule \n",
       "<mark class=\"entity\" style=\"background: #ddd; padding: 0.45em 0.6em; margin: 0 0.25em; line-height: 1; border-radius: 0.35em;\">\n",
       "    Cm*Vm=Cf*Vf\n",
       "    <span style=\"font-size: 0.8em; font-weight: bold; line-height: 1; border-radius: 0.35em; vertical-align: middle; margin-left: 0.5rem\">VALUE</span>\n",
       "</mark>\n",
       " : § </div>\n",
       "\n",
       "<div class=\"entities\" style=\"line-height: 2.5; direction: ltr\">\n",
       "<mark class=\"entity\" style=\"background: #ddd; padding: 0.45em 0.6em; margin: 0 0.25em; line-height: 1; border-radius: 0.35em;\">\n",
       "    ¥¥Volume de Sel de Mohr à prélever  (en µL)¥ Concentration des solutions de la gamme étalon (en mol/L¥ 25¥ 5*10-6¥ 100¥ 2*10-5¥ 250¥ 5*10-5¥  400¥ 8*10-5¥ 550¥ 1.1*10-4¥ 700¥ 1.4*10-4¥ 850¥ 1.7*10-4¥ 1000¥ 2*10-4¥ ¥¥\n",
       "    <span style=\"font-size: 0.8em; font-weight: bold; line-height: 1; border-radius: 0.35em; vertical-align: middle; margin-left: 0.5rem\">TABLE</span>\n",
       "</mark>\n",
       " </div></span>"
      ],
      "text/plain": [
       "<IPython.core.display.HTML object>"
      ]
     },
     "metadata": {},
     "output_type": "display_data"
    }
   ],
   "source": [
    "\n",
    "nlp = spacy.load(\"/Users/anis/test_labnbook/math_ner/correct_ner/packages/fr_LabnbookNer-0.0.0/fr_LabnbookNer/fr_LabnbookNer-0.0.0\")\n",
    "\n",
    "text = \"Expliqudfdfez comment vous déterminez les concentrations des solutions de la gamme étalon. Tout d'abord, on va déterminer les concentrations maximale et minimale de notre gamme étalon. Pour cela, on sait que notre spectrophotomètre est linéaire pour des absorbances se trouvant en 0.05 et 2. Donc grace à la formule A=C*E*l on peut déterminer les concentrations des extrêmes : § C min=A E×l=0.05104×1=5×10-6mol/L § C max=2104×1=2×10-4mol/L § Donc notre gamme étalon doit être entre 5*10-6 et 2*10-4mol/L. Ensuite, on peut maintenant déterminer les volumes maximum et minimum à prélever de solution de sel de Mohr grâce à la formule Cm*Vm=Cf*Vf § V min=Cf×Vf Cm=5×10-6×0.01 2×10-3=2.5×10-5 L=25µL § V max=2×10-4×0.01 2×10-3=1×10-3 L=1mL=1000µL § Donc on va devoir prélever des volumes de sel de Mohr entre 25 et 1000µL.Enfin, nous avons 8 tubes plastiques de 10mL donc on va faire 8solutions pour notre gamme étalon et nous voulons des valeurs à peu près espacées de la même valeurs pour avoir une courbe facile a determiner. On va donc prendre les valeurs de volumes de solution de Mohr suivantes (en µL): 25, 100, 250, 400, 550, 700, 850, 1000. Ce qui nous donne des concentrations qui leur correspondent que l'on obtient grâce a la formule Cm*Vm=Cf*Vf : § ¥¥Volume de Sel de Mohr à prélever  (en µL)¥ Concentration des solutions de la gamme étalon (en mol/L¥ 25¥ 5*10-6¥ 100¥ 2*10-5¥ 250¥ 5*10-5¥  400¥ 8*10-5¥ 550¥ 1.1*10-4¥ 700¥ 1.4*10-4¥ 850¥ 1.7*10-4¥ 1000¥ 2*10-4¥ ¥¥ \"\n",
    "\n",
    "displacy.render(list(nlp(text).sents), style=\"ent\")\n"
   ]
  },
  {
   "cell_type": "code",
   "execution_count": 4,
   "metadata": {},
   "outputs": [],
   "source": [
    "#! streamlit run /Users/anis/test_labnbook/math_ner/train_ner/scripts/visualize_html.py 380148     "
   ]
  },
  {
   "cell_type": "code",
   "execution_count": 3,
   "metadata": {},
   "outputs": [
    {
     "data": {
      "text/plain": [
       "['tok2vec',\n",
       " 'Find_LatexTable',\n",
       " 'pysbd_sentencizer',\n",
       " 'ner',\n",
       " 'custom_sentencizer',\n",
       " 'entity_retokenizer']"
      ]
     },
     "execution_count": 3,
     "metadata": {},
     "output_type": "execute_result"
    }
   ],
   "source": [
    "nlp.pipe_names"
   ]
  },
  {
   "cell_type": "code",
   "execution_count": 4,
   "metadata": {},
   "outputs": [
    {
     "data": {
      "text/html": [
       "<span class=\"tex2jax_ignore\"><div class=\"entities\" style=\"line-height: 2.5; direction: ltr\">pour un débit de \n",
       "<mark class=\"entity\" style=\"background: #ddd; padding: 0.45em 0.6em; margin: 0 0.25em; line-height: 1; border-radius: 0.35em;\">\n",
       "    500 L/h\n",
       "    <span style=\"font-size: 0.8em; font-weight: bold; line-height: 1; border-radius: 0.35em; vertical-align: middle; margin-left: 0.5rem\">VALUE</span>\n",
       "</mark>\n",
       " on obtient \n",
       "<mark class=\"entity\" style=\"background: #ddd; padding: 0.45em 0.6em; margin: 0 0.25em; line-height: 1; border-radius: 0.35em;\">\n",
       "    hA=305mm\n",
       "    <span style=\"font-size: 0.8em; font-weight: bold; line-height: 1; border-radius: 0.35em; vertical-align: middle; margin-left: 0.5rem\">TEXT_MATH</span>\n",
       "</mark>\n",
       " et \n",
       "<mark class=\"entity\" style=\"background: #ddd; padding: 0.45em 0.6em; margin: 0 0.25em; line-height: 1; border-radius: 0.35em;\">\n",
       "    hB=20\n",
       "    <span style=\"font-size: 0.8em; font-weight: bold; line-height: 1; border-radius: 0.35em; vertical-align: middle; margin-left: 0.5rem\">VALUE</span>\n",
       "</mark>\n",
       "kg on a delta \n",
       "<mark class=\"entity\" style=\"background: #ddd; padding: 0.45em 0.6em; margin: 0 0.25em; line-height: 1; border-radius: 0.35em;\">\n",
       "    h=190mm\n",
       "    <span style=\"font-size: 0.8em; font-weight: bold; line-height: 1; border-radius: 0.35em; vertical-align: middle; margin-left: 0.5rem\">VALUE</span>\n",
       "</mark>\n",
       " §</div></span>"
      ],
      "text/plain": [
       "<IPython.core.display.HTML object>"
      ]
     },
     "metadata": {},
     "output_type": "display_data"
    }
   ],
   "source": [
    "text = \"pour un débit de 500 L/h on obtient hA=305mm et hB=20kg on a delta h=190mm §\"\n",
    "\n",
    "displacy.render(list(nlp(text).sents), style=\"ent\")\n"
   ]
  },
  {
   "cell_type": "code",
   "execution_count": null,
   "metadata": {},
   "outputs": [],
   "source": []
  },
  {
   "cell_type": "code",
   "execution_count": 5,
   "metadata": {},
   "outputs": [
    {
     "name": "stdout",
     "output_type": "stream",
     "text": [
      "l'exemple True 22.953375 True \n",
      "\n",
      "de True 23.157715 True \n",
      "\n",
      "d'embarquepment True 23.732521 True \n",
      "\n",
      "et True 22.233355 True \n",
      "\n",
      "s'amuser True 21.398802 True \n",
      "\n"
     ]
    }
   ],
   "source": [
    "\n",
    "doc1 = nlp(\"l'exemple de d'embarquepment et s'amuser\")\n",
    "\n",
    "for token in doc1:\n",
    "    print(token.text, token.has_vector,token.vector_norm, token.is_oov,\"\\n\")"
   ]
  },
  {
   "cell_type": "code",
   "execution_count": 17,
   "metadata": {},
   "outputs": [
    {
     "name": "stdout",
     "output_type": "stream",
     "text": [
      "bonjour True 20.88204 False \n",
      "\n",
      "salut True 25.95254 False \n",
      "\n",
      "coucou True 20.718126 False \n",
      "\n",
      "rgrgrgrg False 0.0 True \n",
      "\n"
     ]
    }
   ],
   "source": [
    "nlp = spacy.load(\"fr_core_news_md\")\n",
    "\n",
    "doc1 = nlp(\"bonjour salut coucou rgrgrgrg \")\n",
    "\n",
    "for token in doc1:\n",
    "    print(token.text, token.has_vector,token.vector_norm, token.is_oov,\"\\n\")"
   ]
  },
  {
   "cell_type": "code",
   "execution_count": 20,
   "metadata": {},
   "outputs": [],
   "source": [
    "vocab  = nlp.vocab"
   ]
  },
  {
   "cell_type": "code",
   "execution_count": 211,
   "metadata": {},
   "outputs": [
    {
     "data": {
      "text/plain": [
       "300"
      ]
     },
     "execution_count": 211,
     "metadata": {},
     "output_type": "execute_result"
    }
   ],
   "source": [
    "nlp.vocab"
   ]
  },
  {
   "cell_type": "code",
   "execution_count": 5,
   "metadata": {},
   "outputs": [],
   "source": [
    "nlp2 = spacy.load(\"training/model-best\")\n"
   ]
  },
  {
   "cell_type": "code",
   "execution_count": 1,
   "metadata": {},
   "outputs": [],
   "source": [
    "from sense2vec import Sense2Vec\n"
   ]
  },
  {
   "cell_type": "code",
   "execution_count": 6,
   "metadata": {},
   "outputs": [
    {
     "data": {
      "text/plain": [
       "<sense2vec.component.Sense2VecComponent at 0x28ab0f190>"
      ]
     },
     "execution_count": 6,
     "metadata": {},
     "output_type": "execute_result"
    }
   ],
   "source": [
    "nlp2.add_pipe(\"sense2vec\")"
   ]
  },
  {
   "cell_type": "code",
   "execution_count": 15,
   "metadata": {},
   "outputs": [
    {
     "ename": "AttributeError",
     "evalue": "'spacy.vocab.Vocab' object has no attribute 'vectors_ngrams'",
     "output_type": "error",
     "traceback": [
      "\u001b[0;31m---------------------------------------------------------------------------\u001b[0m",
      "\u001b[0;31mAttributeError\u001b[0m                            Traceback (most recent call last)",
      "\u001b[1;32m/Users/anis/test_labnbook/math_ner/correct_ner/test.ipynb Cellule 25\u001b[0m in \u001b[0;36m<cell line: 1>\u001b[0;34m()\u001b[0m\n\u001b[0;32m----> <a href='vscode-notebook-cell:/Users/anis/test_labnbook/math_ner/correct_ner/test.ipynb#ch0000062?line=0'>1</a>\u001b[0m nlp2\u001b[39m.\u001b[39;49mvocab\u001b[39m.\u001b[39;49mvectors_ngrams\n",
      "\u001b[0;31mAttributeError\u001b[0m: 'spacy.vocab.Vocab' object has no attribute 'vectors_ngrams'"
     ]
    }
   ],
   "source": []
  },
  {
   "cell_type": "code",
   "execution_count": 23,
   "metadata": {},
   "outputs": [
    {
     "name": "stdout",
     "output_type": "stream",
     "text": [
      "bonjour True 21.901 True \n",
      "\n",
      "Bonjour True 21.74684 True \n",
      "\n",
      "salut True 21.572641 True \n",
      "\n",
      "coucou True 21.452328 True \n",
      "\n",
      "rgrgrgrg True 17.624662 True \n",
      "\n"
     ]
    }
   ],
   "source": [
    "doc1 = nlp2(\"bonjour Bonjour salut coucou rgrgrgrg \")\n",
    "\n",
    "for token in doc1:\n",
    "    print(token.text, token.has_vector,token.vector_norm, token.is_oov,\"\\n\")"
   ]
  },
  {
   "cell_type": "code",
   "execution_count": 78,
   "metadata": {},
   "outputs": [
    {
     "name": "stdout",
     "output_type": "stream",
     "text": [
      "Matching Sequences:\n",
      "Match             : Match(a=0, b=0, size=1)\n",
      "Matching Sequence : ['bonjour']\n",
      "Match             : Match(a=1, b=1, size=0)\n",
      "Matching Sequence : []\n",
      "Match             : ('equal', 0, 1, 0, 1)\n",
      "Matching Sequence : ['bonjour']\n"
     ]
    }
   ],
   "source": [
    "import difflib\n",
    "text1 = \"bonjour $$ latex + alpha $$\"\n",
    "text2 = \"bonjour $$ latex + beta $$\"\n",
    "\n",
    "doc1 = nlp2(text1)\n",
    "doc2 = nlp2(text2)\n",
    "\n",
    "s1 = [token.text for token in doc1 if not token.ent_type_]\n",
    "s2 = [token.text for token in doc2 if not token.ent_type_]\n",
    "\n",
    "matcher = difflib.SequenceMatcher(a=s1, b=s2)\n",
    "print(\"Matching Sequences:\")\n",
    "for match in matcher.get_matching_blocks():\n",
    "    print(\"Match             : {}\".format(match))\n",
    "    print(\"Matching Sequence : {}\".format(s1[match.a:match.a+match.size]))\n",
    "    #print the ratio\n",
    "\n"
   ]
  },
  {
   "cell_type": "code",
   "execution_count": 79,
   "metadata": {},
   "outputs": [
    {
     "name": "stdout",
     "output_type": "stream",
     "text": [
      "Match             : ('equal', 0, 1, 0, 1)\n",
      "Matching Sequence : ['bonjour']\n"
     ]
    }
   ],
   "source": [
    "for match in matcher.get_opcodes():\n",
    "    print(\"Match             : {}\".format(match))\n",
    "    print(\"Matching Sequence : {}\".format(s1[match[1]:match[2]]))\n",
    "    #print the ratio"
   ]
  },
  {
   "cell_type": "code",
   "execution_count": 86,
   "metadata": {},
   "outputs": [
    {
     "name": "stdout",
     "output_type": "stream",
     "text": [
      "Matching Sequences:\n",
      "Match             : Match(a=1, b=1, size=0)\n",
      "Matching Sequence : []\n"
     ]
    }
   ],
   "source": [
    "# s1 = [token.text for token in doc1 if  token.ent_type_]\n",
    "s1 = [ent for ent in doc1.ents ]\n",
    "# s2 = [token.text for token in doc2 if  token.ent_type_]\n",
    "s2 = [ent for ent in doc2.ents ]\n",
    "\n",
    "matcher = difflib.SequenceMatcher(a=s1, b=s2)\n",
    "print(\"Matching Sequences:\")\n",
    "for match in matcher.get_matching_blocks():\n",
    "    print(\"Match             : {}\".format(match))\n",
    "    print(\"Matching Sequence : {}\".format(s1[match.a:match.a+match.size]))"
   ]
  },
  {
   "cell_type": "code",
   "execution_count": 87,
   "metadata": {},
   "outputs": [
    {
     "name": "stdout",
     "output_type": "stream",
     "text": [
      "Match             : ('replace', 0, 1, 0, 1)\n",
      "Matching Sequence : [$$ latex + alpha $$]\n"
     ]
    }
   ],
   "source": [
    "for match in matcher.get_opcodes():\n",
    "    print(\"Match             : {}\".format(match))\n",
    "    print(\"Matching Sequence : {}\".format(s1[match[1]:match[2]]))\n",
    "    #print the ratio"
   ]
  },
  {
   "cell_type": "code",
   "execution_count": 90,
   "metadata": {},
   "outputs": [
    {
     "name": "stdout",
     "output_type": "stream",
     "text": [
      "replace \n",
      " [$$ latex + alpha $$] [$$ latex + beta $$]\n"
     ]
    }
   ],
   "source": [
    "for tag, i1, i2, j1, j2 in matcher.get_opcodes():\n",
    "   print(tag,'\\n',s1[i1:i2], s2[j1:j2])\n",
    "   #print ratio of tag"
   ]
  },
  {
   "cell_type": "code",
   "execution_count": 97,
   "metadata": {},
   "outputs": [
    {
     "name": "stdout",
     "output_type": "stream",
     "text": [
      "Matching Sequences:\n",
      "Match             : Match(a=0, b=0, size=2)\n",
      "Matching Sequence : ['It', 'is']\n",
      "['It', 'is']\n",
      "Match             : Match(a=2, b=3, size=3)\n",
      "Matching Sequence : ['warm.', 'It', 'is']\n",
      "['warm.', 'It', 'is']\n",
      "Match             : Match(a=6, b=7, size=0)\n",
      "Matching Sequence : []\n",
      "[]\n"
     ]
    }
   ],
   "source": [
    "s1 = \"It is warm. It is summer.\".split(' ')\n",
    "s2 = \"It is not warm. It is winter.\".split(' ')\n",
    "matcher = difflib.SequenceMatcher(a=s1, b=s2)\n",
    "print(\"Matching Sequences:\")\n",
    "for match in matcher.get_matching_blocks():\n",
    "    print(\"Match             : {}\".format(match))\n",
    "    print(\"Matching Sequence : {}\".format(s1[match.a:match.a+match.size]))\n"
   ]
  },
  {
   "cell_type": "code",
   "execution_count": 136,
   "metadata": {},
   "outputs": [],
   "source": [
    "import re\n",
    "\n",
    "def tokenize(s):\n",
    "    return re.split('\\s+', s)\n",
    "def untokenize(ts):\n",
    "    return ' '.join(ts)\n",
    "        \n",
    "def equalize(s1, s2):\n",
    "    l1 = tokenize(s1)\n",
    "    l2 = tokenize(s2)\n",
    "    res1 = []\n",
    "    res2 = []\n",
    "    prev = difflib.Match(0,0,0)\n",
    "    for match in difflib.SequenceMatcher(a=l1, b=l2).get_matching_blocks():\n",
    "        if (prev.a + prev.size != match.a):\n",
    "            for i in range(prev.a + prev.size, match.a):\n",
    "                res2 += ['_' * len(l1[i])]\n",
    "            res1 += l1[prev.a + prev.size:match.a]\n",
    "        if (prev.b + prev.size != match.b):\n",
    "            for i in range(prev.b + prev.size, match.b):\n",
    "                res1 += ['_' * len(l2[i])]\n",
    "            res2 += l2[prev.b + prev.size:match.b]\n",
    "        res1 += l1[match.a:match.a+match.size]\n",
    "        res2 += l2[match.b:match.b+match.size]\n",
    "        prev = match\n",
    "    return untokenize(res1), untokenize(res2)"
   ]
  },
  {
   "cell_type": "code",
   "execution_count": 137,
   "metadata": {},
   "outputs": [
    {
     "data": {
      "text/plain": [
       "('It is warm. It is summer. _____ __ ____ __ _____',\n",
       " 'It is warm. It is _______ good. My name is Anis.')"
      ]
     },
     "execution_count": 137,
     "metadata": {},
     "output_type": "execute_result"
    }
   ],
   "source": [
    "equalize(\"It is warm. It is summer.\", \"It is warm. It is good. My name is Anis.\")"
   ]
  },
  {
   "cell_type": "code",
   "execution_count": 105,
   "metadata": {},
   "outputs": [],
   "source": [
    "def insert_newlines(string, every=40, window=10):\n",
    "    result = []\n",
    "    from_str = string\n",
    "    while len(from_str) > 0:\n",
    "        cut_off = every\n",
    "        if len(from_str) > every:\n",
    "            while (from_str[cut_off - 1] != ' ') and (cut_off > (every-window)):\n",
    "                cut_off -= 1\n",
    "        else:\n",
    "            cut_off = len(from_str)\n",
    "        part = from_str[:cut_off]\n",
    "        result += [part]\n",
    "        from_str = from_str[cut_off:]\n",
    "    return result"
   ]
  },
  {
   "cell_type": "code",
   "execution_count": 106,
   "metadata": {},
   "outputs": [],
   "source": [
    "def show_comparison(s1, s2, width=40, margin=10, sidebyside=True, compact=False):\n",
    "    s1, s2 = equalize(s1,s2)\n",
    "\n",
    "    if sidebyside:\n",
    "        s1 = insert_newlines(s1, width, margin)\n",
    "        s2 = insert_newlines(s2, width, margin)\n",
    "        if compact:\n",
    "            for i in range(0, len(s1)):\n",
    "                lft = re.sub(' +', ' ', s1[i].replace('_', '')).ljust(width)\n",
    "                rgt = re.sub(' +', ' ', s2[i].replace('_', '')).ljust(width) \n",
    "                print(lft + ' | ' + rgt + ' | ')        \n",
    "        else:\n",
    "            for i in range(0, len(s1)):\n",
    "                lft = s1[i].ljust(width)\n",
    "                rgt = s2[i].ljust(width)\n",
    "                print(lft + ' | ' + rgt + ' | ')\n",
    "    else:\n",
    "        print(s1)\n",
    "        print(s2)"
   ]
  },
  {
   "cell_type": "code",
   "execution_count": 109,
   "metadata": {},
   "outputs": [
    {
     "ename": "AttributeError",
     "evalue": "'list' object has no attribute 'appen'",
     "output_type": "error",
     "traceback": [
      "\u001b[0;31m---------------------------------------------------------------------------\u001b[0m",
      "\u001b[0;31mAttributeError\u001b[0m                            Traceback (most recent call last)",
      "\u001b[1;32m/Users/anis/test_labnbook/math_ner/correct_ner/test.ipynb Cellule 36\u001b[0m in \u001b[0;36m<cell line: 2>\u001b[0;34m()\u001b[0m\n\u001b[1;32m      <a href='vscode-notebook-cell:/Users/anis/test_labnbook/math_ner/correct_ner/test.ipynb#ch0000091?line=0'>1</a>\u001b[0m x \u001b[39m=\u001b[39m []\n\u001b[0;32m----> <a href='vscode-notebook-cell:/Users/anis/test_labnbook/math_ner/correct_ner/test.ipynb#ch0000091?line=1'>2</a>\u001b[0m \u001b[39mrepr\u001b[39m(x\u001b[39m.\u001b[39;49mappen(\u001b[39m0\u001b[39m),\u001b[39m2\u001b[39m)\n",
      "\u001b[0;31mAttributeError\u001b[0m: 'list' object has no attribute 'appen'"
     ]
    }
   ],
   "source": [
    "x = []\n",
    "repr(x.append(0),2)"
   ]
  },
  {
   "cell_type": "code",
   "execution_count": 112,
   "metadata": {},
   "outputs": [
    {
     "name": "stdout",
     "output_type": "stream",
     "text": [
      "[0, 0, 0, 0, 0]\n"
     ]
    }
   ],
   "source": [
    "# repeat x.appen 5 times \n",
    "x = []\n",
    "for i in range(0,5):\n",
    "    x.append(0)\n",
    "\n",
    "print(x)"
   ]
  },
  {
   "cell_type": "markdown",
   "metadata": {},
   "source": [
    "# New"
   ]
  },
  {
   "cell_type": "code",
   "execution_count": 2,
   "metadata": {},
   "outputs": [],
   "source": [
    "nlp = spacy.load(\"/Users/anis/test_labnbook/math_ner/correct_ner/packages/fr_LabnbookNer-0.0.0/fr_LabnbookNer/fr_LabnbookNer-0.0.0\")\n",
    "# displacy.render(list(nlp(text).sents), style=\"ent\")"
   ]
  },
  {
   "cell_type": "code",
   "execution_count": 3,
   "metadata": {},
   "outputs": [],
   "source": [
    "text = \" ceci est une formule mathématique  ¥¥200mm¥¥  et celle-ci est une autre formule mathématique $$ \\\\frac{1}{2} $$ \" "
   ]
  },
  {
   "cell_type": "code",
   "execution_count": 4,
   "metadata": {},
   "outputs": [
    {
     "data": {
      "text/html": [
       "<span class=\"tex2jax_ignore\"><div class=\"entities\" style=\"line-height: 2.5; direction: ltr\"> ceci est une formule mathématique  \n",
       "<mark class=\"entity\" style=\"background: #ddd; padding: 0.45em 0.6em; margin: 0 0.25em; line-height: 1; border-radius: 0.35em;\">\n",
       "    ¥¥200mm¥¥\n",
       "    <span style=\"font-size: 0.8em; font-weight: bold; line-height: 1; border-radius: 0.35em; vertical-align: middle; margin-left: 0.5rem\">TABLE</span>\n",
       "</mark>\n",
       "  et celle-ci est une autre formule mathématique \n",
       "<mark class=\"entity\" style=\"background: #ddd; padding: 0.45em 0.6em; margin: 0 0.25em; line-height: 1; border-radius: 0.35em;\">\n",
       "    $$ \\frac{1}{2} $$\n",
       "    <span style=\"font-size: 0.8em; font-weight: bold; line-height: 1; border-radius: 0.35em; vertical-align: middle; margin-left: 0.5rem\">LATEX_MATH</span>\n",
       "</mark>\n",
       " </div></span>"
      ],
      "text/plain": [
       "<IPython.core.display.HTML object>"
      ]
     },
     "metadata": {},
     "output_type": "display_data"
    }
   ],
   "source": [
    "displacy.render(list(nlp(text).sents), style=\"ent\")"
   ]
  },
  {
   "cell_type": "code",
   "execution_count": null,
   "metadata": {},
   "outputs": [],
   "source": []
  }
 ],
 "metadata": {
  "kernelspec": {
   "display_name": "Python 3.9.12 ('base')",
   "language": "python",
   "name": "python3"
  },
  "language_info": {
   "codemirror_mode": {
    "name": "ipython",
    "version": 3
   },
   "file_extension": ".py",
   "mimetype": "text/x-python",
   "name": "python",
   "nbconvert_exporter": "python",
   "pygments_lexer": "ipython3",
   "version": "3.9.12"
  },
  "orig_nbformat": 4,
  "vscode": {
   "interpreter": {
    "hash": "b7bae802a98f43a68296acc593990a17ba8bb804956ac47e96ba419f2775cbfc"
   }
  }
 },
 "nbformat": 4,
 "nbformat_minor": 2
}
